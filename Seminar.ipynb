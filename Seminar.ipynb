{
 "cells": [
  {
   "cell_type": "markdown",
   "source": [],
   "metadata": {
    "collapsed": false
   },
   "id": "b35e066c24f325f7"
  },
  {
   "cell_type": "markdown",
   "source": [
    "# LangChain: Introduction"
   ],
   "metadata": {
    "collapsed": false
   },
   "id": "91b30aeaa53c1c3c"
  },
  {
   "cell_type": "markdown",
   "source": [
    "This seminar will introduce various concepts and tools that can help to build AI projects with LangChain. It is based on materials from activeloop.ai \n",
    "\n",
    "We will cover:\n",
    "- LLM invoking in LangChain\n",
    "- LLM Chains\n",
    "- Memory\n",
    "- Retrieval-augmented generation\n",
    "- Agents & Tools"
   ],
   "metadata": {
    "collapsed": false
   },
   "id": "5e9f1a69a6e3df51"
  },
  {
   "cell_type": "markdown",
   "source": [
    "## LLM"
   ],
   "metadata": {
    "collapsed": false
   },
   "id": "1db9070ae86f7eb"
  },
  {
   "cell_type": "markdown",
   "source": [
    "The fundamental component of LangChain involves invoking an LLM with a specific input. To illustrate this, we'll explore a simple example. Let's imagine we are building a service that suggests personalized workout routines based on an individual's fitness goals and preferences.\n",
    "\n",
    "To accomplish this, we will first need to import the LLM wrapper."
   ],
   "metadata": {
    "collapsed": false
   },
   "id": "650dff4e47b4f815"
  },
  {
   "cell_type": "code",
   "execution_count": 38,
   "outputs": [
    {
     "data": {
      "text/plain": "True"
     },
     "execution_count": 38,
     "metadata": {},
     "output_type": "execute_result"
    }
   ],
   "source": [
    "from langchain_openai.chat_models import ChatOpenAI  # Chat wrapper\n",
    "from dotenv import load_dotenv\n",
    "\n",
    "# load ENVs\n",
    "load_dotenv('.env') # returns True if "
   ],
   "metadata": {
    "collapsed": false,
    "ExecuteTime": {
     "end_time": "2024-03-25T03:53:16.227726Z",
     "start_time": "2024-03-25T03:53:16.221177Z"
    }
   },
   "id": "cec4922fbbbedd30"
  },
  {
   "cell_type": "code",
   "execution_count": 21,
   "outputs": [],
   "source": [
    "llm = ChatOpenAI(model=\"gpt-3.5-turbo\", temperature=0)"
   ],
   "metadata": {
    "collapsed": false,
    "ExecuteTime": {
     "end_time": "2024-03-24T15:55:58.369210Z",
     "start_time": "2024-03-24T15:55:58.355301Z"
    }
   },
   "id": "75bb0a113a8c27c8"
  },
  {
   "cell_type": "markdown",
   "source": [
    "The temperature parameter in OpenAI models manages the randomness of the output. When set to 0, the output is mostly predetermined and suitable for tasks requiring stability and the most probable result. Possible values: 0-2"
   ],
   "metadata": {
    "collapsed": false
   },
   "id": "c8810ee7702a6581"
  },
  {
   "cell_type": "code",
   "execution_count": 22,
   "outputs": [
    {
     "name": "stdout",
     "output_type": "stream",
     "text": [
      "Here is a personalized workout routine for someone looking to improve cardiovascular endurance and prefers outdoor activities:\n",
      "\n",
      "1. Warm-up: Start with a 5-10 minute brisk walk or jog to get your heart rate up and prepare your muscles for the workout.\n",
      "\n",
      "2. Interval Running: Find a nearby park or trail with varying terrain and do interval running. Alternate between jogging and sprinting for 1-2 minutes each, for a total of 20-30 minutes.\n",
      "\n",
      "3. Hill Sprints: Find a steep hill and do hill sprints. Sprint up the hill as fast as you can, then walk or jog back down to recover. Repeat for 10-15 minutes.\n",
      "\n",
      "4. Cycling: Go for a long bike ride on a scenic route with hills and varying terrain. Aim for at least 30-60 minutes of continuous cycling.\n",
      "\n",
      "5. Stair Climbing: Find a set of stairs or a hill with stairs and do stair climbing intervals. Run up the stairs as fast as you can, then walk back down to recover. Repeat for 15-20 minutes.\n",
      "\n",
      "6. Hiking: Go for a challenging hike in a nearby nature reserve or mountain trail. Aim for at least 1-2 hours of hiking with varying terrain.\n",
      "\n",
      "7. Cool-down: Finish your workout with a 5-10 minute walk or jog to gradually lower your heart rate and stretch your muscles.\n",
      "\n",
      "Remember to stay hydrated, wear appropriate clothing and footwear, and listen to your body. Adjust the intensity and duration of each activity based on your fitness level and goals. Have fun and enjoy the great outdoors while improving your cardiovascular endurance!\n"
     ]
    }
   ],
   "source": [
    "text = \"Suggest a personalized workout routine for someone looking to improve cardiovascular endurance and prefers outdoor activities.\"\n",
    "\n",
    "# the easiest way is to call is to call chat model as LLM\n",
    "print(llm.call_as_llm(text))"
   ],
   "metadata": {
    "collapsed": false,
    "ExecuteTime": {
     "end_time": "2024-03-24T15:56:06.123466Z",
     "start_time": "2024-03-24T15:55:59.548073Z"
    }
   },
   "id": "6370488b864a9117"
  },
  {
   "cell_type": "markdown",
   "source": [
    "Chat models (e.g. GPT-4, GPT-3.5-turbo) takes messages as inputs. There are 3 types of messages:\n",
    "* SystemMessage: message that instructs/profiles LLM\n",
    "* HumanMessage: request from human\n",
    "* AIMessage: usually response from LLM"
   ],
   "metadata": {
    "collapsed": false
   },
   "id": "91cd312c9121a337"
  },
  {
   "cell_type": "code",
   "execution_count": 23,
   "outputs": [
    {
     "data": {
      "text/plain": "AIMessage(content=\"Here is a personalized workout routine for someone looking to improve cardiovascular endurance and prefers outdoor activities:\\n\\n1. Warm-up: Start with a 5-10 minute brisk walk or jog to get your heart rate up and prepare your muscles for the workout.\\n\\n2. Running intervals: Find a flat or hilly trail or path and alternate between running at a moderate pace for 2-3 minutes and sprinting for 1 minute. Repeat this interval for 20-30 minutes.\\n\\n3. Cycling: Go for a 30-45 minute bike ride on a scenic route with varying terrain to challenge your cardiovascular system.\\n\\n4. Hiking: Find a challenging hiking trail with inclines and uneven terrain to improve your endurance and strength. Aim for a 60-90 minute hike at a steady pace.\\n\\n5. Stair climbing: Find a set of stairs or a hill to climb repeatedly for 15-20 minutes. This will help improve your cardiovascular endurance and leg strength.\\n\\n6. Cool down: Finish your workout with a 5-10 minute walk or jog to gradually lower your heart rate and stretch your muscles.\\n\\nRemember to stay hydrated, wear appropriate clothing and footwear, and listen to your body's cues during the workout. Adjust the intensity and duration of each activity based on your fitness level and goals. Consistency is key to seeing improvements in your cardiovascular endurance.\", response_metadata={'token_usage': {'completion_tokens': 273, 'prompt_tokens': 25, 'total_tokens': 298}, 'model_name': 'gpt-3.5-turbo', 'system_fingerprint': 'fp_3bc1b5746c', 'finish_reason': 'stop', 'logprobs': None})"
     },
     "execution_count": 23,
     "metadata": {},
     "output_type": "execute_result"
    }
   ],
   "source": [
    "from langchain.schema import (\n",
    "    AIMessage,\n",
    "    HumanMessage,\n",
    "    SystemMessage\n",
    ")\n",
    "\n",
    "# Create list of messages\n",
    "messages = [HumanMessage(text)]\n",
    "\n",
    "# __call__ is invoked\n",
    "llm(messages)"
   ],
   "metadata": {
    "collapsed": false,
    "ExecuteTime": {
     "end_time": "2024-03-24T15:56:14.850506Z",
     "start_time": "2024-03-24T15:56:06.125335Z"
    }
   },
   "id": "b7eb598eae6b570e"
  },
  {
   "cell_type": "markdown",
   "source": [
    "## The Chains"
   ],
   "metadata": {
    "collapsed": false
   },
   "id": "86a222b996a96c28"
  },
  {
   "cell_type": "markdown",
   "source": [
    "In LangChain, a chain is an end-to-end wrapper around multiple individual components, providing a way to accomplish a common use case by combining these components in a specific sequence. The most commonly used type of chain is the LLMChain, which consists of a PromptTemplate, a model (either an LLM or a ChatModel), and an optional output parser.\n",
    "\n",
    "The LLMChain works as follows:\n",
    "\n",
    "1. Takes (multiple) input variables.\n",
    "2. Uses the PromptTemplate to format the input variables into a prompt.\n",
    "3. Passes the formatted prompt to the model (LLM or ChatModel).\n",
    "4. If an output parser is provided, it uses the OutputParser to parse the output of the LLM into a final format."
   ],
   "metadata": {
    "collapsed": false
   },
   "id": "ac9e8b403b986ea3"
  },
  {
   "cell_type": "code",
   "execution_count": 24,
   "outputs": [
    {
     "name": "stdout",
     "output_type": "stream",
     "text": [
      "{'product': 'eco-friendly water bottles', 'text': 'EcoHydrate'}\n"
     ]
    }
   ],
   "source": [
    "from langchain.prompts import PromptTemplate\n",
    "from langchain.chains import LLMChain\n",
    "\n",
    "prompt = PromptTemplate(\n",
    "    input_variables=[\"product\"],\n",
    "    template=\"What is a good name for a company that makes {product}?\",\n",
    ")\n",
    "\n",
    "chain = LLMChain(llm=llm, prompt=prompt)\n",
    "\n",
    "# Run the chain only specifying the input variable.\n",
    "print(chain(\"eco-friendly water bottles\"))"
   ],
   "metadata": {
    "collapsed": false,
    "ExecuteTime": {
     "end_time": "2024-03-24T15:56:16.979628Z",
     "start_time": "2024-03-24T15:56:14.852769Z"
    }
   },
   "id": "ff100e89b0dd36c8"
  },
  {
   "cell_type": "code",
   "execution_count": 25,
   "outputs": [
    {
     "name": "stdout",
     "output_type": "stream",
     "text": [
      "{'product': 'eco-friendly water bottles', 'text': 'EcoHydrate'}\n"
     ]
    }
   ],
   "source": [
    "# __call__ is deprecated, better to use invoke\n",
    "print(chain.invoke(\"eco-friendly water bottles\"))"
   ],
   "metadata": {
    "collapsed": false,
    "ExecuteTime": {
     "end_time": "2024-03-24T15:56:19.060165Z",
     "start_time": "2024-03-24T15:56:16.981453Z"
    }
   },
   "id": "595dea0c89ca8059"
  },
  {
   "cell_type": "markdown",
   "source": [
    "## The Memory"
   ],
   "metadata": {
    "collapsed": false
   },
   "id": "dd7a8e3a6cc08ff2"
  },
  {
   "cell_type": "markdown",
   "source": [
    "In LangChain, Memory refers to the mechanism that stores and manages the conversation history between a user and the AI. It helps maintain context and coherency throughout the interaction, enabling the AI to generate more relevant and accurate responses. Memory, such as ConversationBufferMemory, acts as a wrapper around ChatMessageHistory, extracting the messages and providing them to the chain for better context-aware generation."
   ],
   "metadata": {
    "collapsed": false
   },
   "id": "4eecfe3f71523632"
  },
  {
   "cell_type": "code",
   "execution_count": 26,
   "outputs": [
    {
     "name": "stdout",
     "output_type": "stream",
     "text": [
      "\n",
      "\n",
      "\u001B[1m> Entering new ConversationChain chain...\u001B[0m\n",
      "Prompt after formatting:\n",
      "\u001B[32;1m\u001B[1;3mThe following is a friendly conversation between a human and an AI. The AI is talkative and provides lots of specific details from its context. If the AI does not know the answer to a question, it truthfully says it does not know.\n",
      "\n",
      "Current conversation:\n",
      "\n",
      "Human: Tell me about yourself.\n",
      "AI:\u001B[0m\n",
      "\n",
      "\u001B[1m> Finished chain.\u001B[0m\n",
      "\n",
      "\n",
      "\u001B[1m> Entering new ConversationChain chain...\u001B[0m\n",
      "Prompt after formatting:\n",
      "\u001B[32;1m\u001B[1;3mThe following is a friendly conversation between a human and an AI. The AI is talkative and provides lots of specific details from its context. If the AI does not know the answer to a question, it truthfully says it does not know.\n",
      "\n",
      "Current conversation:\n",
      "Human: Tell me about yourself.\n",
      "AI: I am an artificial intelligence designed to assist with answering questions and providing information. I have access to a vast amount of data and can provide detailed responses on a wide range of topics. I am constantly learning and improving my abilities to better assist users like you. Is there anything specific you would like to know or discuss?\n",
      "Human: What can you do?\n",
      "AI:\u001B[0m\n",
      "\n",
      "\u001B[1m> Finished chain.\u001B[0m\n",
      "\n",
      "\n",
      "\u001B[1m> Entering new ConversationChain chain...\u001B[0m\n",
      "Prompt after formatting:\n",
      "\u001B[32;1m\u001B[1;3mThe following is a friendly conversation between a human and an AI. The AI is talkative and provides lots of specific details from its context. If the AI does not know the answer to a question, it truthfully says it does not know.\n",
      "\n",
      "Current conversation:\n",
      "Human: Tell me about yourself.\n",
      "AI: I am an artificial intelligence designed to assist with answering questions and providing information. I have access to a vast amount of data and can provide detailed responses on a wide range of topics. I am constantly learning and improving my abilities to better assist users like you. Is there anything specific you would like to know or discuss?\n",
      "Human: What can you do?\n",
      "AI: I can answer questions, provide information on various topics, help with problem-solving, offer recommendations, and engage in conversation. I can also assist with tasks like setting reminders, scheduling appointments, and even playing games. Just let me know what you need help with, and I'll do my best to assist you.\n",
      "Human: How can you help me with data analysis?\n",
      "AI:\u001B[0m\n",
      "\n",
      "\u001B[1m> Finished chain.\u001B[0m\n",
      "memory=ConversationBufferMemory(chat_memory=ChatMessageHistory(messages=[HumanMessage(content='Tell me about yourself.'), AIMessage(content='I am an artificial intelligence designed to assist with answering questions and providing information. I have access to a vast amount of data and can provide detailed responses on a wide range of topics. I am constantly learning and improving my abilities to better assist users like you. Is there anything specific you would like to know or discuss?'), HumanMessage(content='What can you do?'), AIMessage(content=\"I can answer questions, provide information on various topics, help with problem-solving, offer recommendations, and engage in conversation. I can also assist with tasks like setting reminders, scheduling appointments, and even playing games. Just let me know what you need help with, and I'll do my best to assist you.\"), HumanMessage(content='How can you help me with data analysis?'), AIMessage(content='I can help with data analysis by processing large datasets, identifying patterns and trends, performing statistical analysis, and generating visualizations to help you better understand the data. I can also assist with data cleaning, data modeling, and predictive analytics. Just provide me with the data you have, and I can help you analyze it to extract valuable insights. Let me know if you have any specific data analysis tasks in mind.')])) verbose=True llm=ChatOpenAI(client=<openai.resources.chat.completions.Completions object at 0x10f871c90>, async_client=<openai.resources.chat.completions.AsyncCompletions object at 0x10f871650>, temperature=0.0, openai_api_key=SecretStr('**********'), openai_proxy='')\n"
     ]
    }
   ],
   "source": [
    "from langchain.chains import ConversationChain\n",
    "from langchain.memory import ConversationBufferMemory\n",
    "\n",
    "conversation = ConversationChain(\n",
    "    llm=llm,\n",
    "    verbose=True,\n",
    "    memory=ConversationBufferMemory()\n",
    ")\n",
    "\n",
    "# Start the conversation\n",
    "conversation.predict(input=\"Tell me about yourself.\")\n",
    "\n",
    "# Continue the conversation\n",
    "conversation.predict(input=\"What can you do?\")\n",
    "conversation.predict(input=\"How can you help me with data analysis?\")\n",
    "\n",
    "# Display the conversation\n",
    "print(conversation)"
   ],
   "metadata": {
    "collapsed": false,
    "ExecuteTime": {
     "end_time": "2024-03-24T16:03:08.041941Z",
     "start_time": "2024-03-24T16:03:01.101026Z"
    }
   },
   "id": "99d0c122c69cb225"
  },
  {
   "cell_type": "markdown",
   "source": [
    "In this output, you can see the memory being used by observing the \"Current conversation\" section. After each input from the user, the conversation is updated with both the user's input and the AI's response. When the AI generates its next response, it will use this conversation history as context, making its responses more coherent and relevant."
   ],
   "metadata": {
    "collapsed": false
   },
   "id": "7f2a3488e517efa6"
  },
  {
   "cell_type": "markdown",
   "source": [
    "Deep Lake provides storage for embeddings and their corresponding metadata in the context of LLM apps. It enables hybrid searches on these embeddings and their attributes for efficient data retrieval. It also integrates with LangChain, facilitating the development and deployment of applications."
   ],
   "metadata": {
    "collapsed": false
   },
   "id": "a1eaab3cb3523ac4"
  },
  {
   "cell_type": "markdown",
   "source": [
    "In order to use Deep Lake, you first have to register on the Activeloop website and redeem your API token. Here are the steps for doing it:\n",
    "\n",
    "1. Sign up for an account on Activeloop's platform. You can sign up at Activeloop's website. After specifying your username, click on the “Sign up” button. You should now see your homepage.\n",
    "2. You should now see a “Create API token” button at the top of your homepage. Click on it, and you’ll get redirected to the “API tokens” page. This is where you can generate, manage, and revoke your API keys for accessing Deep Lake.\n",
    "3. Click on the \"Create API token\" button. Then, you should see a popup asking for a token name and an expiration date. By default, the token expiration date is set so that the token expires after one day from its creation, but you can set it further in the future if you want to keep using the same token for the whole duration of the course. Once you’ve set the token name and its expiration date, click on the “Create API token” button.\n",
    "4. You should now see a green banner saying that the token has been successfully generated, along with your new API token, on the “API tokens” page. To copy your token to your clipboard, click on the square icon on its right.\n"
   ],
   "metadata": {
    "collapsed": false
   },
   "id": "9b9b527f1d1ace4c"
  },
  {
   "cell_type": "markdown",
   "source": [
    "Now that you have your API token, you can conveniently store under the `ACTIVELOOP_TOKEN` key in the environment variable to retrieve it automatically by the Deep Lake libraries whenever needed. You can also save the token to its environment variable with Python, like in the following code snippet."
   ],
   "metadata": {
    "collapsed": false
   },
   "id": "926700f02ff9fc5b"
  },
  {
   "cell_type": "code",
   "execution_count": 117,
   "outputs": [
    {
     "name": "stderr",
     "output_type": "stream",
     "text": [
      "Using embedding function is deprecated and will be removed in the future. Please use embedding instead.\n",
      "Creating 3 embeddings in 1 batches of size 3:: 100%|██████████| 1/1 [00:01<00:00,  1.05s/it]"
     ]
    },
    {
     "name": "stdout",
     "output_type": "stream",
     "text": [
      "Dataset(path='database/rag_website', tensors=['text', 'metadata', 'embedding', 'id'])\n",
      "\n",
      "  tensor      htype      shape     dtype  compression\n",
      "  -------    -------    -------   -------  ------- \n",
      "   text       text      (3, 1)      str     None   \n",
      " metadata     json      (3, 1)      str     None   \n",
      " embedding  embedding  (3, 1536)  float32   None   \n",
      "    id        text      (3, 1)      str     None   \n"
     ]
    },
    {
     "name": "stderr",
     "output_type": "stream",
     "text": [
      "\n"
     ]
    },
    {
     "data": {
      "text/plain": "['4f96ffca-ea88-11ee-a342-4ecb56d42115',\n '4f9700ba-ea88-11ee-a342-4ecb56d42115',\n '4f9700e2-ea88-11ee-a342-4ecb56d42115']"
     },
     "execution_count": 117,
     "metadata": {},
     "output_type": "execute_result"
    }
   ],
   "source": [
    "from langchain_openai import OpenAIEmbeddings\n",
    "from langchain.vectorstores import DeepLake\n",
    "from langchain.text_splitter import RecursiveCharacterTextSplitter\n",
    "from langchain.chains import RetrievalQA\n",
    "\n",
    "# instantiate embeddings model\n",
    "embeddings = OpenAIEmbeddings(model=\"text-embedding-ada-002\")\n",
    "\n",
    "# create the documents\n",
    "texts = [\"\"\"Drawing points don't snap to OHLC values correctly\n",
    "            If you want drawing points to snap to OHLC values of bars automatically, then you need to enable Magnet Mode on the left-hand side of your chart (the icon should turn blue when enabled). \n",
    "            \n",
    "            Magnet sensitivity can be adjusted through the magnet mode menu.\n",
    "            \n",
    "            Strong Magnet pulls the drawing points to chart values (bars), regardless of the distance between the points and chart values.\n",
    "            \n",
    "            Weak Magnet pulls the drawing points to chart values (bars) when you are drawing near them.\n",
    "            \"\"\",\n",
    "         \"\"\"How can I remove all drawings & indicators from the chart? Click the left panel button to open the drop-down menu, then click Remove Drawing Tools & Indicators.\"\"\",\n",
    "         \"\"\"I want to quickly find a tool or feature\n",
    "            There is a quick search dialog to search for tools and features across the platform. You can use it to find and choose any drawing tool, change chart, or scale settings, and also use numerous features for charting and data analysis.\n",
    "            To open the dialog you can use the “Quick search” button on the top toolbar, but it’s much easier to use hotkeys ⌘ + K (macOS), or Ctrl + K (Windows).\"\"\"\n",
    "]\n",
    "text_splitter = RecursiveCharacterTextSplitter(chunk_size=1000, chunk_overlap=0)\n",
    "docs = text_splitter.create_documents(texts)\n",
    "\n",
    "# create Deep Lake dataset\n",
    "dataset_path = f\"database/rag_website\"\n",
    "db = DeepLake(dataset_path=dataset_path, embedding_function=embeddings)\n",
    "\n",
    "# add documents to our Deep Lake dataset\n",
    "db.add_documents(docs)"
   ],
   "metadata": {
    "collapsed": false,
    "ExecuteTime": {
     "end_time": "2024-03-25T09:16:07.739508Z",
     "start_time": "2024-03-25T09:16:02.290771Z"
    }
   },
   "id": "f97a20211ec5ba82"
  },
  {
   "cell_type": "markdown",
   "source": [
    "Now, let's create a RetrievalQA chain"
   ],
   "metadata": {
    "collapsed": false
   },
   "id": "eccea0559b6744a7"
  },
  {
   "cell_type": "code",
   "execution_count": 118,
   "outputs": [],
   "source": [
    "retrieval_qa = RetrievalQA.from_chain_type(\n",
    "\tllm=llm,\n",
    "\tchain_type=\"stuff\",\n",
    "\tretriever=db.as_retriever(),\n",
    "    verbose=True\n",
    ")"
   ],
   "metadata": {
    "collapsed": false,
    "ExecuteTime": {
     "end_time": "2024-03-25T09:16:09.591237Z",
     "start_time": "2024-03-25T09:16:09.580329Z"
    }
   },
   "id": "28b14f2b7c1f154a"
  },
  {
   "cell_type": "code",
   "execution_count": 119,
   "outputs": [
    {
     "name": "stdout",
     "output_type": "stream",
     "text": [
      "\n",
      "\n",
      "\u001B[1m> Entering new RetrievalQA chain...\u001B[0m\n",
      "\n",
      "\u001B[1m> Finished chain.\u001B[0m\n"
     ]
    },
    {
     "data": {
      "text/plain": "'To quickly find a tool or feature, you can use the quick search dialog on the platform. You can open the dialog by using the \"Quick search\" button on the top toolbar or by using the hotkeys ⌘ + K (macOS) or Ctrl + K (Windows). This search function allows you to search for and choose any drawing tool, change chart, or scale settings, and access various features for charting and data analysis.'"
     },
     "execution_count": 119,
     "metadata": {},
     "output_type": "execute_result"
    }
   ],
   "source": [
    "retrieval_qa.run('How to find a tool?')"
   ],
   "metadata": {
    "collapsed": false,
    "ExecuteTime": {
     "end_time": "2024-03-25T09:16:27.457132Z",
     "start_time": "2024-03-25T09:16:23.093830Z"
    }
   },
   "id": "6f110458239fe3b9"
  },
  {
   "cell_type": "code",
   "execution_count": null,
   "outputs": [],
   "source": [
    "from langchain.agents import initialize_agent, Tool\n",
    "from langchain.agents import AgentType\n",
    "\n",
    "tools = [\n",
    "    Tool(\n",
    "        name=\"Retrieval QA System\",\n",
    "        func=retrieval_qa.run,\n",
    "        description=\"Useful for answering questions.\"\n",
    "    ),\n",
    "]\n",
    "\n",
    "agent = initialize_agent(\n",
    "\ttools,\n",
    "\tllm,\n",
    "\tagent=AgentType.ZERO_SHOT_REACT_DESCRIPTION,\n",
    "\tverbose=True\n",
    ")"
   ],
   "metadata": {
    "collapsed": false
   },
   "id": "a643750923e10bd0"
  },
  {
   "cell_type": "markdown",
   "source": [
    "## Agents in LangChain"
   ],
   "metadata": {
    "collapsed": false
   },
   "id": "3b94e19d3b9d6f8a"
  },
  {
   "cell_type": "markdown",
   "source": [
    "In LangChain, agents are high-level components that use language models (LLMs) to determine which actions to take and in what order. An action can either be using a tool and observing its output or returning it to the user. Tools are functions that perform specific duties, such as Google Search, database lookups, or Python REPL.\n",
    "\n",
    "Agents involve an LLM making decisions about which Actions to take, taking that Action, seeing an Observation, and repeating that until done.\n",
    "\n",
    "#### Several types of agents are available in LangChain:\n",
    "\n",
    "- The `zero-shot-react-description` agent uses the ReAct framework to decide which tool to employ based purely on the tool's description. It necessitates a description of each tool.\n",
    "- The `react-docstore agent` engages with a docstore through the ReAct framework. It needs two tools: a Search tool and a Lookup tool. The Search tool finds a document, and the Lookup tool searches for a term in the most recently discovered document.\n",
    "- The `self-ask-with-search` agent employs a single tool named Intermediate Answer, which is capable of looking up factual responses to queries. It is identical to the original self-ask with the search paper, where a Google search API was provided as the tool.\n",
    "- The `conversational-react-description` agent is designed for conversational situations. It uses the ReAct framework to select a tool and uses memory to remember past conversation interactions."
   ],
   "metadata": {
    "collapsed": false
   },
   "id": "3bec3bda274cf4dc"
  },
  {
   "cell_type": "markdown",
   "source": [
    "#### Tools in LangChain\n",
    "\n",
    "LangChain provides a variety of tools for agents to interact with the outside world. These tools can be used to create custom agents that perform various tasks, such as searching the web, answering questions, or running Python code. In this section, we will discuss the different tool types available in LangChain and provide examples of creating and using them.\n",
    "\n",
    "In our example, two tools are being defined for use within a LangChain agent: a Google Search tool and a Language Model tool acting specifically as a text summarizer. The Google Search tool, using the GoogleSearchAPIWrapper, will handle queries that involve finding recent event information. The Language Model tool leverages the capabilities of a language model to summarize texts. These tools are designed to be used interchangeably by the agent, depending on the nature of the user's query."
   ],
   "metadata": {
    "collapsed": false
   },
   "id": "7eadb7a78b1b4366"
  },
  {
   "cell_type": "markdown",
   "source": [
    "In our example we will write a simple agent that will operate on 4 tools:\n",
    "- User statistics tool\n",
    "- Behavior analysis tool\n",
    "- Get users' activity tool"
   ],
   "metadata": {
    "collapsed": false
   },
   "id": "e6a189dc562b66e6"
  },
  {
   "cell_type": "code",
   "execution_count": 59,
   "outputs": [],
   "source": [
    "from langchain.agents import AgentType\n",
    "from langchain.agents import initialize_agent\n",
    "from langchain.agents import Tool"
   ],
   "metadata": {
    "collapsed": false,
    "ExecuteTime": {
     "end_time": "2024-03-25T05:21:28.116567Z",
     "start_time": "2024-03-25T05:21:28.112691Z"
    }
   },
   "id": "ad17650aa4a6d703"
  },
  {
   "cell_type": "markdown",
   "source": [],
   "metadata": {
    "collapsed": false
   },
   "id": "5ceef073e7beb4fd"
  },
  {
   "cell_type": "code",
   "execution_count": 54,
   "outputs": [
    {
     "data": {
      "text/plain": "   Unnamed: 0 InvoiceNo StockCode                          Description  \\\n0           0    536365    85123A   WHITE HANGING HEART T-LIGHT HOLDER   \n1           1    536365     71053                  WHITE METAL LANTERN   \n2           2    536365    84406B       CREAM CUPID HEARTS COAT HANGER   \n3           3    536365    84029G  KNITTED UNION FLAG HOT WATER BOTTLE   \n4           4    536365    84029E       RED WOOLLY HOTTIE WHITE HEART.   \n\n   Quantity         InvoiceDate  UnitPrice  CustomerID         Country  \n0         6 2010-12-01 08:26:00       2.55       17850  United Kingdom  \n1         6 2010-12-01 08:26:00       3.39       17850  United Kingdom  \n2         8 2010-12-01 08:26:00       2.75       17850  United Kingdom  \n3         6 2010-12-01 08:26:00       3.39       17850  United Kingdom  \n4         6 2010-12-01 08:26:00       3.39       17850  United Kingdom  ",
      "text/html": "<div>\n<style scoped>\n    .dataframe tbody tr th:only-of-type {\n        vertical-align: middle;\n    }\n\n    .dataframe tbody tr th {\n        vertical-align: top;\n    }\n\n    .dataframe thead th {\n        text-align: right;\n    }\n</style>\n<table border=\"1\" class=\"dataframe\">\n  <thead>\n    <tr style=\"text-align: right;\">\n      <th></th>\n      <th>Unnamed: 0</th>\n      <th>InvoiceNo</th>\n      <th>StockCode</th>\n      <th>Description</th>\n      <th>Quantity</th>\n      <th>InvoiceDate</th>\n      <th>UnitPrice</th>\n      <th>CustomerID</th>\n      <th>Country</th>\n    </tr>\n  </thead>\n  <tbody>\n    <tr>\n      <th>0</th>\n      <td>0</td>\n      <td>536365</td>\n      <td>85123A</td>\n      <td>WHITE HANGING HEART T-LIGHT HOLDER</td>\n      <td>6</td>\n      <td>2010-12-01 08:26:00</td>\n      <td>2.55</td>\n      <td>17850</td>\n      <td>United Kingdom</td>\n    </tr>\n    <tr>\n      <th>1</th>\n      <td>1</td>\n      <td>536365</td>\n      <td>71053</td>\n      <td>WHITE METAL LANTERN</td>\n      <td>6</td>\n      <td>2010-12-01 08:26:00</td>\n      <td>3.39</td>\n      <td>17850</td>\n      <td>United Kingdom</td>\n    </tr>\n    <tr>\n      <th>2</th>\n      <td>2</td>\n      <td>536365</td>\n      <td>84406B</td>\n      <td>CREAM CUPID HEARTS COAT HANGER</td>\n      <td>8</td>\n      <td>2010-12-01 08:26:00</td>\n      <td>2.75</td>\n      <td>17850</td>\n      <td>United Kingdom</td>\n    </tr>\n    <tr>\n      <th>3</th>\n      <td>3</td>\n      <td>536365</td>\n      <td>84029G</td>\n      <td>KNITTED UNION FLAG HOT WATER BOTTLE</td>\n      <td>6</td>\n      <td>2010-12-01 08:26:00</td>\n      <td>3.39</td>\n      <td>17850</td>\n      <td>United Kingdom</td>\n    </tr>\n    <tr>\n      <th>4</th>\n      <td>4</td>\n      <td>536365</td>\n      <td>84029E</td>\n      <td>RED WOOLLY HOTTIE WHITE HEART.</td>\n      <td>6</td>\n      <td>2010-12-01 08:26:00</td>\n      <td>3.39</td>\n      <td>17850</td>\n      <td>United Kingdom</td>\n    </tr>\n  </tbody>\n</table>\n</div>"
     },
     "execution_count": 54,
     "metadata": {},
     "output_type": "execute_result"
    }
   ],
   "source": [
    "import pandas as pd\n",
    "df = pd.read_excel('data/Online Retail 10k.xlsx')\n",
    "df = df[~df.CustomerID.isnull()]\n",
    "df['CustomerID'] = df['CustomerID'].apply(int)\n",
    "df.head()"
   ],
   "metadata": {
    "collapsed": false,
    "ExecuteTime": {
     "end_time": "2024-03-25T04:13:09.957988Z",
     "start_time": "2024-03-25T04:13:09.447745Z"
    }
   },
   "id": "742ff5ff2f4cf472"
  },
  {
   "cell_type": "code",
   "execution_count": 57,
   "outputs": [
    {
     "data": {
      "text/plain": "CustomerID\n17850    297\n12748    133\n15574    121\n18118    118\n17059    117\n        ... \n17949      1\n15769      1\n16353      1\n15100      1\n15823      1\nName: count, Length: 323, dtype: int64"
     },
     "execution_count": 57,
     "metadata": {},
     "output_type": "execute_result"
    }
   ],
   "source": [
    "df['CustomerID'].value_counts()"
   ],
   "metadata": {
    "collapsed": false,
    "ExecuteTime": {
     "end_time": "2024-03-25T04:50:48.124642Z",
     "start_time": "2024-03-25T04:50:48.116842Z"
    }
   },
   "id": "9019342893d9c636"
  },
  {
   "cell_type": "markdown",
   "source": [
    "Let's define functions for our tools"
   ],
   "metadata": {
    "collapsed": false
   },
   "id": "82907fed94439704"
  },
  {
   "cell_type": "code",
   "execution_count": 113,
   "outputs": [],
   "source": [
    "def get_top_customer_ids(topn: str) -> str:\n",
    "    topn = int(topn)\n",
    "    customer_id2counts = df.CustomerID.value_counts()\n",
    "    res = []\n",
    "    for customer_id, count in dict(customer_id2counts[:topn]).items():\n",
    "        res.append(f'{customer_id}: {count}')\n",
    "    return '\\n'.join(res)\n",
    "\n",
    "\n",
    "def get_customer_id(n: str) -> str:\n",
    "    n = int(n)\n",
    "    return df.iloc[n].CustomerID\n",
    "\n",
    "\n",
    "def get_user_activity(customer_id: str) -> str: \n",
    "    customer_id = customer_id.split(' ')[-1]\n",
    "    customer_id = int(customer_id)\n",
    "    cur_df = df[df.CustomerID == customer_id]\n",
    "    res = [f'{desc}: {quantity}' for desc, quantity in zip(cur_df.Description, cur_df.Quantity)]\n",
    "    return '\\n'.join(res)\n",
    "\n",
    "\n",
    "prompt_behavior_analysis = PromptTemplate(\n",
    "    input_variables=[\"activity\"],\n",
    "    template=\"Given the history of user activity and purchase on the platform: {activity}.\\n\\n Summarize the main interests of the user, just include main interests based on his/her activity\",\n",
    ")\n",
    "\n",
    "bahavior_analysis_chain = LLMChain(llm=llm, prompt=prompt)"
   ],
   "metadata": {
    "collapsed": false,
    "ExecuteTime": {
     "end_time": "2024-03-25T07:18:54.656131Z",
     "start_time": "2024-03-25T07:18:54.653804Z"
    }
   },
   "id": "320549d32df9865"
  },
  {
   "cell_type": "code",
   "execution_count": 114,
   "outputs": [],
   "source": [
    "tools = [\n",
    "    Tool(\n",
    "        name = \"get-customer-id\",\n",
    "        func=get_customer_id,\n",
    "        description=\"useful to get customer id by its rank among all users\",\n",
    "    ),\n",
    "    Tool(\n",
    "        name = \"behavior-analysis-by-given-activity\",\n",
    "        func=bahavior_analysis_chain.run,\n",
    "        description=\"useful to analyse the user behavior by given activity (activity analysis)\"\n",
    "    ),\n",
    "    Tool(\n",
    "        name = \"top-customer-ids\",\n",
    "        func=get_top_customer_ids,\n",
    "        description=\"useful to get sorted customer list of top-n users\"\n",
    "    ),\n",
    "    Tool(\n",
    "        name = \"get-user_activity\",\n",
    "        func=get_user_activity,\n",
    "        description=\"useful to get activity of given user by customer_id. It takes only number (customer_id) as input\",\n",
    "        \n",
    "    ),\n",
    "]"
   ],
   "metadata": {
    "collapsed": false,
    "ExecuteTime": {
     "end_time": "2024-03-25T07:18:55.755522Z",
     "start_time": "2024-03-25T07:18:55.750817Z"
    }
   },
   "id": "b08af3cc2bf996ed"
  },
  {
   "cell_type": "markdown",
   "source": [
    "Next, we create an agent that uses our tools:\n",
    "\n",
    "1. `initialize_agent()`: This function call creates and initializes an agent. An agent is a component that determines which actions to take based on user input. These actions can be using a tool, returning a response to the user, or something else.\n",
    "2. `tools`:  represents the list of Tool objects that the agent can use.\n",
    "agent=\"zero-shot-react-description\": The \"zero-shot-react-description\" type of an Agent uses the ReAct framework to decide which tool to use based only on the tool's description.\n",
    "3. `verbose`=True: when set to True, it will cause the Agent to print more detailed information about what it's doing. This is useful for debugging and understanding what's happening under the hood.\n",
    "4. `max_iterations`=6: sets a limit on the number of iterations the Agent can perform before stopping. It's a way of preventing the agent from running indefinitely in some cases, which may have unwanted monetary costs."
   ],
   "metadata": {
    "collapsed": false
   },
   "id": "d9cdb621113b48a7"
  },
  {
   "cell_type": "code",
   "execution_count": 115,
   "outputs": [],
   "source": [
    "agent = initialize_agent(tools, \n",
    "                         llm, \n",
    "                         agent=AgentType.ZERO_SHOT_REACT_DESCRIPTION, \n",
    "                         verbose=True,\n",
    "                         max_iterations=6)"
   ],
   "metadata": {
    "collapsed": false,
    "ExecuteTime": {
     "end_time": "2024-03-25T07:18:56.059007Z",
     "start_time": "2024-03-25T07:18:56.052999Z"
    }
   },
   "id": "6048619e7b4243c1"
  },
  {
   "cell_type": "code",
   "execution_count": 102,
   "outputs": [
    {
     "name": "stdout",
     "output_type": "stream",
     "text": [
      "\n",
      "\n",
      "\u001B[1m> Entering new AgentExecutor chain...\u001B[0m\n",
      "\u001B[32;1m\u001B[1;3mI need to find the top 20 users based on their activity.\n",
      "Action: top-customer-ids\n",
      "Action Input: 20\u001B[0m\n",
      "Observation: \u001B[38;5;200m\u001B[1;3m17850: 297\n",
      "12748: 133\n",
      "15574: 121\n",
      "18118: 118\n",
      "17059: 117\n",
      "15880: 106\n",
      "17841: 98\n",
      "14911: 93\n",
      "13174: 89\n",
      "15426: 86\n",
      "17968: 85\n",
      "12472: 84\n",
      "14606: 84\n",
      "18041: 81\n",
      "17920: 81\n",
      "14573: 76\n",
      "13081: 74\n",
      "15061: 73\n",
      "12433: 73\n",
      "14729: 71\u001B[0m\n",
      "Thought:\u001B[32;1m\u001B[1;3mI have the list of the top 20 users based on their activity.\n",
      "Final Answer: 17850, 12748, 15574, 18118, 17059, 15880, 17841, 14911, 13174, 15426, 17968, 12472, 14606, 18041, 17920, 14573, 13081, 15061, 12433, 14729\u001B[0m\n",
      "\n",
      "\u001B[1m> Finished chain.\u001B[0m\n"
     ]
    },
    {
     "data": {
      "text/plain": "'17850, 12748, 15574, 18118, 17059, 15880, 17841, 14911, 13174, 15426, 17968, 12472, 14606, 18041, 17920, 14573, 13081, 15061, 12433, 14729'"
     },
     "execution_count": 102,
     "metadata": {},
     "output_type": "execute_result"
    }
   ],
   "source": [
    "agent.run('Provide the list of the most popular-20 users?')"
   ],
   "metadata": {
    "collapsed": false,
    "ExecuteTime": {
     "end_time": "2024-03-25T07:05:09.315359Z",
     "start_time": "2024-03-25T07:05:05.888328Z"
    }
   },
   "id": "675c20d3a0517fc8"
  },
  {
   "cell_type": "code",
   "execution_count": 103,
   "outputs": [
    {
     "name": "stdout",
     "output_type": "stream",
     "text": [
      "\n",
      "\n",
      "\u001B[1m> Entering new AgentExecutor chain...\u001B[0m\n",
      "\u001B[32;1m\u001B[1;3mI need to get the activity of user with id 14729.\n",
      "Action: get-user_activity\n",
      "Action Input: 14729\u001B[0m\n",
      "Observation: \u001B[36;1m\u001B[1;3mCLASSIC FRENCH STYLE BASKET NATURAL: 1\n",
      "CRAZY DAISY HEART DECORATION: 1\n",
      "GIN + TONIC DIET METAL SIGN: 1\n",
      "IVORY GIANT GARDEN THERMOMETER: 1\n",
      "CARD HOLDER GINGHAM HEART: 2\n",
      "SMALL STRIPES CHOCOLATE GIFT BAG : 16\n",
      "S/6 WOODEN SKITTLES IN COTTON BAG: 1\n",
      "HAND WARMER RED RETROSPOT: 4\n",
      "HAND WARMER UNION JACK: 3\n",
      "FRENCH WC SIGN BLUE METAL: 1\n",
      "PINK UNION JACK  LUGGAGE TAG: 1\n",
      "TRAY, BREAKFAST IN BED: 1\n",
      "PIZZA PLATE IN BOX: 2\n",
      "HEART OF WICKER LARGE: 1\n",
      "PINK HEART DOTS HOT WATER BOTTLE: 1\n",
      "PLACE SETTING WHITE HEART: 14\n",
      "SET OF 4 NAPKIN CHARMS LEAVES   : 4\n",
      "SET OF 4 NAPKIN CHARMS STARS   : 4\n",
      "SET OF 4 NAPKIN CHARMS CUTLERY: 3\n",
      "CARAVAN SQUARE TISSUE BOX: 2\n",
      "PLASTERS IN TIN SKULLS: 1\n",
      "PLASTERS IN TIN SPACEBOY: 1\n",
      "BUTTON BOX : 1\n",
      "PLASTERS IN TIN VINTAGE PAISLEY : 2\n",
      "12 MESSAGE CARDS WITH ENVELOPES: 6\n",
      "SMALL RED BABUSHKA NOTEBOOK : 1\n",
      "CUPCAKE LACE PAPER SET 6: 5\n",
      "PACK 3 BOXES CHRISTMAS PANNETONE: 3\n",
      "HERB MARKER MINT: 2\n",
      "HERB MARKER ROSEMARY: 1\n",
      "HERB MARKER BASIL: 3\n",
      "HERB MARKER CHIVES : 2\n",
      "HERB MARKER PARSLEY: 2\n",
      "HERB MARKER THYME: 1\n",
      "WHITE HANGING HEART T-LIGHT HOLDER: 3\n",
      "METAL MERRY CHRISTMAS WREATH: 1\n",
      "WHITE CHRISTMAS GARLAND STARS TREES: 3\n",
      "RETROSPOT SMALL TUBE MATCHES: 12\n",
      "RETROSPOT GIANT TUBE MATCHES: 3\n",
      "PLACE SETTING WHITE STAR: 12\n",
      "GROW YOUR OWN BASIL IN ENAMEL MUG: 1\n",
      "36 FOIL STAR CAKE CASES : 2\n",
      "36 FOIL HEART CAKE CASES: 2\n",
      "PACK OF 6 SWEETIE GIFT BOXES: 2\n",
      "PACK OF 6 HANDBAG GIFT BOXES: 3\n",
      "GARLAND WOODEN HAPPY EASTER: 2\n",
      "CALENDAR PAPER CUT DESIGN: 3\n",
      "CALENDAR IN SEASON DESIGN: 2\n",
      "SMALL POPCORN HOLDER: 3\n",
      "BLUE PAISLEY TISSUE BOX: 1\n",
      "HEART OF WICKER SMALL: 1\n",
      "SKULLS SQUARE TISSUE BOX: 1\n",
      "PINK PAISLEY SQUARE TISSUE BOX : 1\n",
      "PACK OF 6 HANDBAG GIFT BOXES: 1\n",
      "TOAST ITS - HAPPY BIRTHDAY: 2\n",
      "SET/10 IVORY POLKADOT PARTY CANDLES: 1\n",
      "SET/10 BLUE POLKADOT PARTY CANDLES: 1\n",
      "SET/10 PINK POLKADOT PARTY CANDLES: 1\n",
      "SET OF 3 HEART COOKIE CUTTERS: 1\n",
      "PACK OF 12 HEARTS DESIGN TISSUES : 12\n",
      "SKULLS STORAGE BOX SMALL: 2\n",
      "REX CASH+CARRY JUMBO SHOPPER: 2\n",
      "JUMBO STORAGE BAG SKULLS: 1\n",
      "GARDEN PATH JOURNAL: 1\n",
      "HEART OF WICKER SMALL: 2\n",
      "BLACK ORANGE SQUEEZER: 12\n",
      "SET OF 72 GREEN PAPER DOILIES: 1\n",
      "RETROSPOT RED WASHING UP GLOVES: 1\n",
      "SMALL LICORICE DES PINK BOWL: 1\n",
      "SWISS ROLL TOWEL, CHOCOLATE  SPOTS: 1\n",
      "PICNIC BASKET WICKER LARGE: 1\u001B[0m\n",
      "Thought:\u001B[32;1m\u001B[1;3mI have gathered all the activities of user with id 14729.\n",
      "Final Answer: The list of actions of user with id 14729 are as follows:\n",
      "- CLASSIC FRENCH STYLE BASKET NATURAL: 1\n",
      "- CRAZY DAISY HEART DECORATION: 1\n",
      "- GIN + TONIC DIET METAL SIGN: 1\n",
      "- IVORY GIANT GARDEN THERMOMETER: 1\n",
      "- CARD HOLDER GINGHAM HEART: 2\n",
      "- SMALL STRIPES CHOCOLATE GIFT BAG : 16\n",
      "- S/6 WOODEN SKITTLES IN COTTON BAG: 1\n",
      "- HAND WARMER RED RETROSPOT: 4\n",
      "- HAND WARMER UNION JACK: 3\n",
      "- FRENCH WC SIGN BLUE METAL: 1\n",
      "- PINK UNION JACK  LUGGAGE TAG: 1\n",
      "- TRAY, BREAKFAST IN BED: 1\n",
      "- PIZZA PLATE IN BOX: 2\n",
      "- HEART OF WICKER LARGE: 1\n",
      "- PINK HEART DOTS HOT WATER BOTTLE: 1\n",
      "- PLACE SETTING WHITE HEART: 14\n",
      "- SET OF 4 NAPKIN CHARMS LEAVES   : 4\n",
      "- SET OF 4 NAPKIN CHARMS STARS   : 4\n",
      "- SET OF 4 NAPKIN CHARMS CUTLERY: 3\n",
      "- CARAVAN SQUARE TISSUE BOX: 2\n",
      "- PLASTERS IN TIN SKULLS: 1\n",
      "- PLASTERS IN TIN SPACEBOY: 1\n",
      "- BUTTON BOX : 1\n",
      "- PLASTERS IN TIN VINTAGE PAISLEY : 2\n",
      "- 12 MESSAGE CARDS WITH ENVELOPES: 6\n",
      "- SMALL RED BABUSHKA NOTEBOOK : 1\n",
      "- CUPCAKE LACE PAPER SET 6: 5\n",
      "- PACK 3 BOXES CHRISTMAS PANNETONE: 3\n",
      "- HERB MARKER MINT: 2\n",
      "- HERB MARKER ROSEMARY: 1\n",
      "- HERB MARKER BASIL: 3\n",
      "- HERB MARKER CHIVES : 2\n",
      "- HERB MARKER PARSLEY: 2\n",
      "- HERB MARKER THYME: 1\n",
      "- WHITE HANGING HEART T-LIGHT HOLDER: 3\n",
      "- METAL MERRY CHRISTMAS WREATH: 1\n",
      "- WHITE CHRISTMAS GARLAND STARS TREES: 3\n",
      "- RETROSPOT SMALL TUBE MATCHES: 12\n",
      "- RETROSPOT GIANT TUBE MATCHES: 3\n",
      "- PLACE SETTING WHITE STAR: 12\n",
      "- GROW YOUR OWN BASIL IN ENAMEL MUG: 1\n",
      "- 36 FOIL STAR CAKE CASES : 2\n",
      "- 36 FOIL HEART CAKE CASES: 2\n",
      "- PACK OF 6 SWEETIE GIFT BOXES: 2\n",
      "- PACK OF 6 HANDBAG GIFT BOXES: 3\n",
      "- GARLAND WOODEN HAPPY EASTER: 2\n",
      "- CALENDAR PAPER CUT DESIGN: 3\n",
      "- CALENDAR IN SEASON DESIGN: 2\n",
      "- SMALL POPCORN HOLDER: 3\n",
      "- BLUE PAISLEY TISSUE BOX: 1\n",
      "- HEART OF WICKER SMALL: 1\n",
      "- SKULLS SQUARE TISSUE BOX: 1\n",
      "- PINK PAISLEY SQUARE TISSUE BOX : 1\n",
      "- PACK OF 6 HANDBAG GIFT BOXES: 1\n",
      "- TOAST ITS - HAPPY BIRTHDAY: 2\n",
      "- SET/10 IVORY POLKADOT PARTY CANDLES: 1\n",
      "- SET/10 BLUE POLKADOT PARTY CANDLES: 1\n",
      "- SET/10 PINK POLKADOT PARTY CANDLES: 1\n",
      "- SET OF 3 HEART COOKIE CUTTERS: 1\n",
      "- PACK OF 12 HEARTS DESIGN TISSUES : 12\n",
      "- SKULLS STORAGE BOX SMALL: 2\n",
      "- REX CASH+CARRY JUMBO SHOPPER: 2\n",
      "- JUMBO STORAGE BAG SKULLS: 1\n",
      "- GARDEN PATH JOURNAL: 1\n",
      "- HEART OF WICKER SMALL: 2\n",
      "- BLACK ORANGE SQUEEZER: 12\n",
      "- SET OF 72 GREEN PAPER DOILIES: 1\n",
      "- RETROSPOT RED WASHING UP GLOVES: 1\n",
      "- SMALL LICORICE DES PINK BOWL: 1\n",
      "- SWISS ROLL TOWEL, CHOCOLATE  SPOTS: 1\n",
      "- PICNIC BASKET WICKER LARGE: 1\u001B[0m\n",
      "\n",
      "\u001B[1m> Finished chain.\u001B[0m\n"
     ]
    },
    {
     "data": {
      "text/plain": "'The list of actions of user with id 14729 are as follows:\\n- CLASSIC FRENCH STYLE BASKET NATURAL: 1\\n- CRAZY DAISY HEART DECORATION: 1\\n- GIN + TONIC DIET METAL SIGN: 1\\n- IVORY GIANT GARDEN THERMOMETER: 1\\n- CARD HOLDER GINGHAM HEART: 2\\n- SMALL STRIPES CHOCOLATE GIFT BAG : 16\\n- S/6 WOODEN SKITTLES IN COTTON BAG: 1\\n- HAND WARMER RED RETROSPOT: 4\\n- HAND WARMER UNION JACK: 3\\n- FRENCH WC SIGN BLUE METAL: 1\\n- PINK UNION JACK  LUGGAGE TAG: 1\\n- TRAY, BREAKFAST IN BED: 1\\n- PIZZA PLATE IN BOX: 2\\n- HEART OF WICKER LARGE: 1\\n- PINK HEART DOTS HOT WATER BOTTLE: 1\\n- PLACE SETTING WHITE HEART: 14\\n- SET OF 4 NAPKIN CHARMS LEAVES   : 4\\n- SET OF 4 NAPKIN CHARMS STARS   : 4\\n- SET OF 4 NAPKIN CHARMS CUTLERY: 3\\n- CARAVAN SQUARE TISSUE BOX: 2\\n- PLASTERS IN TIN SKULLS: 1\\n- PLASTERS IN TIN SPACEBOY: 1\\n- BUTTON BOX : 1\\n- PLASTERS IN TIN VINTAGE PAISLEY : 2\\n- 12 MESSAGE CARDS WITH ENVELOPES: 6\\n- SMALL RED BABUSHKA NOTEBOOK : 1\\n- CUPCAKE LACE PAPER SET 6: 5\\n- PACK 3 BOXES CHRISTMAS PANNETONE: 3\\n- HERB MARKER MINT: 2\\n- HERB MARKER ROSEMARY: 1\\n- HERB MARKER BASIL: 3\\n- HERB MARKER CHIVES : 2\\n- HERB MARKER PARSLEY: 2\\n- HERB MARKER THYME: 1\\n- WHITE HANGING HEART T-LIGHT HOLDER: 3\\n- METAL MERRY CHRISTMAS WREATH: 1\\n- WHITE CHRISTMAS GARLAND STARS TREES: 3\\n- RETROSPOT SMALL TUBE MATCHES: 12\\n- RETROSPOT GIANT TUBE MATCHES: 3\\n- PLACE SETTING WHITE STAR: 12\\n- GROW YOUR OWN BASIL IN ENAMEL MUG: 1\\n- 36 FOIL STAR CAKE CASES : 2\\n- 36 FOIL HEART CAKE CASES: 2\\n- PACK OF 6 SWEETIE GIFT BOXES: 2\\n- PACK OF 6 HANDBAG GIFT BOXES: 3\\n- GARLAND WOODEN HAPPY EASTER: 2\\n- CALENDAR PAPER CUT DESIGN: 3\\n- CALENDAR IN SEASON DESIGN: 2\\n- SMALL POPCORN HOLDER: 3\\n- BLUE PAISLEY TISSUE BOX: 1\\n- HEART OF WICKER SMALL: 1\\n- SKULLS SQUARE TISSUE BOX: 1\\n- PINK PAISLEY SQUARE TISSUE BOX : 1\\n- PACK OF 6 HANDBAG GIFT BOXES: 1\\n- TOAST ITS - HAPPY BIRTHDAY: 2\\n- SET/10 IVORY POLKADOT PARTY CANDLES: 1\\n- SET/10 BLUE POLKADOT PARTY CANDLES: 1\\n- SET/10 PINK POLKADOT PARTY CANDLES: 1\\n- SET OF 3 HEART COOKIE CUTTERS: 1\\n- PACK OF 12 HEARTS DESIGN TISSUES : 12\\n- SKULLS STORAGE BOX SMALL: 2\\n- REX CASH+CARRY JUMBO SHOPPER: 2\\n- JUMBO STORAGE BAG SKULLS: 1\\n- GARDEN PATH JOURNAL: 1\\n- HEART OF WICKER SMALL: 2\\n- BLACK ORANGE SQUEEZER: 12\\n- SET OF 72 GREEN PAPER DOILIES: 1\\n- RETROSPOT RED WASHING UP GLOVES: 1\\n- SMALL LICORICE DES PINK BOWL: 1\\n- SWISS ROLL TOWEL, CHOCOLATE  SPOTS: 1\\n- PICNIC BASKET WICKER LARGE: 1'"
     },
     "execution_count": 103,
     "metadata": {},
     "output_type": "execute_result"
    }
   ],
   "source": [
    "agent.run('Provide the list of actions of user with id 14729?')"
   ],
   "metadata": {
    "collapsed": false,
    "ExecuteTime": {
     "end_time": "2024-03-25T07:05:34.048919Z",
     "start_time": "2024-03-25T07:05:11.006366Z"
    }
   },
   "id": "14a4f944cb69737f"
  },
  {
   "cell_type": "code",
   "execution_count": 116,
   "outputs": [
    {
     "name": "stdout",
     "output_type": "stream",
     "text": [
      "\n",
      "\n",
      "\u001B[1m> Entering new AgentExecutor chain...\u001B[0m\n",
      "\u001B[32;1m\u001B[1;3mI need to first get the customer id of the user on 30th place.\n",
      "Action: get-customer-id\n",
      "Action Input: 30\u001B[0m\n",
      "Observation: \u001B[36;1m\u001B[1;3m12583\u001B[0m\n",
      "Thought:\u001B[32;1m\u001B[1;3mNow that I have the customer id, I can analyze the activity of that user.\n",
      "Action: get-user_activity\n",
      "Action Input: 12583\u001B[0m\n",
      "Observation: \u001B[36;1m\u001B[1;3mALARM CLOCK BAKELIKE PINK: 24\n",
      "ALARM CLOCK BAKELIKE RED : 24\n",
      "ALARM CLOCK BAKELIKE GREEN: 12\n",
      "PANDA AND BUNNIES STICKER SHEET: 12\n",
      "STARS GIFT TAPE : 24\n",
      "INFLATABLE POLITICAL GLOBE : 48\n",
      "VINTAGE HEADS AND TAILS CARD GAME : 24\n",
      "SET/2 RED RETROSPOT TEA TOWELS : 18\n",
      "ROUND SNACK BOXES SET OF4 WOODLAND : 24\n",
      "SPACEBOY LUNCH BOX : 24\n",
      "LUNCH BOX I LOVE LONDON: 24\n",
      "CIRCUS PARADE LUNCH BOX : 24\n",
      "CHARLOTTE BAG DOLLY GIRL DESIGN: 20\n",
      "RED TOADSTOOL LED NIGHT LIGHT: 24\n",
      " SET 2 TEA TOWELS I LOVE LONDON : 24\n",
      "VINTAGE SEASIDE JIGSAW PUZZLES: 12\n",
      "MINI JIGSAW CIRCUS PARADE : 24\n",
      "MINI JIGSAW SPACEBOY: 24\n",
      "MINI PAINT SET VINTAGE : 36\n",
      "POSTAGE: 3\u001B[0m\n",
      "Thought:\u001B[32;1m\u001B[1;3mI have analyzed the activity of the user on 30th place.\n",
      "Final Answer: The activity of the user on 30th place includes various items such as alarm clocks, sticker sheets, gift tape, inflatable globe, vintage card game, tea towels, snack boxes, lunch boxes, bags, night light, jigsaw puzzles, mini paint set, and postage.\u001B[0m\n",
      "\n",
      "\u001B[1m> Finished chain.\u001B[0m\n"
     ]
    },
    {
     "data": {
      "text/plain": "'The activity of the user on 30th place includes various items such as alarm clocks, sticker sheets, gift tape, inflatable globe, vintage card game, tea towels, snack boxes, lunch boxes, bags, night light, jigsaw puzzles, mini paint set, and postage.'"
     },
     "execution_count": 116,
     "metadata": {},
     "output_type": "execute_result"
    }
   ],
   "source": [
    "agent.run('Analyze activity of a user on 30th place')"
   ],
   "metadata": {
    "collapsed": false,
    "ExecuteTime": {
     "end_time": "2024-03-25T07:19:08.249925Z",
     "start_time": "2024-03-25T07:18:59.888095Z"
    }
   },
   "id": "c1f27931bf34963a"
  },
  {
   "cell_type": "markdown",
   "source": [],
   "metadata": {
    "collapsed": false
   },
   "id": "4e04276f3ecf6a0f"
  },
  {
   "cell_type": "code",
   "execution_count": null,
   "outputs": [],
   "source": [],
   "metadata": {
    "collapsed": false
   },
   "id": "1ebaa4ffc04f8874"
  }
 ],
 "metadata": {
  "kernelspec": {
   "name": "python3",
   "language": "python",
   "display_name": "Python 3 (ipykernel)"
  },
  "language_info": {
   "name": ""
  }
 },
 "nbformat": 4,
 "nbformat_minor": 5
}
